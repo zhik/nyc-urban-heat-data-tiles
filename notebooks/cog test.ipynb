{
 "cells": [
  {
   "cell_type": "code",
   "execution_count": null,
   "id": "38c95324-7344-4680-a182-ebe44d95ad04",
   "metadata": {},
   "outputs": [],
   "source": [
    "from pathlib import Path\n",
    "import rasterio\n",
    "from rio_cogeo.cogeo import cog_translate\n",
    "from rio_cogeo.profiles import cog_profiles\n",
    "from rasterio.warp import calculate_default_transform, reproject, Resampling"
   ]
  },
  {
   "cell_type": "code",
   "execution_count": null,
   "id": "ee028bef-18bf-4fde-8438-627d991bf2c4",
   "metadata": {},
   "outputs": [],
   "source": [
    "!pip install rio_cogeo"
   ]
  },
  {
   "cell_type": "code",
   "execution_count": null,
   "id": "4e240b85-bd54-4b15-be01-1a5e26344995",
   "metadata": {},
   "outputs": [],
   "source": [
    "def convert_to_cog(input_tiff, output_tiff):\n",
    "    \"\"\"\n",
    "    Convert a GeoTIFF to Cloud Optimized GeoTIFF (COG) in Web Mercator\n",
    "    \"\"\"\n",
    "    # First create a temporary reprojected file\n",
    "    temp_file = output_tiff.parent / 'temp_reprojected.tif'\n",
    "    \n",
    "    # Reproject to Web Mercator\n",
    "    with rasterio.open(str(input_tiff)) as src:\n",
    "        transform, width, height = calculate_default_transform(\n",
    "            src.crs, \n",
    "            'EPSG:3857',\n",
    "            src.width, \n",
    "            src.height, \n",
    "            *src.bounds\n",
    "        )\n",
    "        \n",
    "        kwargs = src.meta.copy()\n",
    "        kwargs.update({\n",
    "            'crs': 'EPSG:3857',\n",
    "            'transform': transform,\n",
    "            'width': width,\n",
    "            'height': height\n",
    "        })\n",
    "        \n",
    "        with rasterio.open(str(temp_file), 'w', **kwargs) as dst:\n",
    "            reproject(\n",
    "                source=rasterio.band(src, 1),\n",
    "                destination=rasterio.band(dst, 1),\n",
    "                src_transform=src.transform,\n",
    "                src_crs=src.crs,\n",
    "                dst_transform=transform,\n",
    "                dst_crs='EPSG:3857',\n",
    "                resampling=Resampling.bilinear\n",
    "            )\n",
    "    \n",
    "    # Now create the COG from the reprojected file\n",
    "    output_profile = cog_profiles.get(\"deflate\")\n",
    "    output_profile.update(\n",
    "        tiled=True,\n",
    "        blocksize=256,\n",
    "        compress='deflate',\n",
    "        predictor=2,\n",
    "        overview_resampling='average'\n",
    "    )\n",
    "    \n",
    "    cog_translate(\n",
    "        str(temp_file),\n",
    "        str(output_tiff),\n",
    "        output_profile,\n",
    "        quiet=False,\n",
    "        allow_intermediate_compression=True,\n",
    "        web_optimized=True\n",
    "    )\n",
    "    \n",
    "    # Clean up temporary file\n",
    "    temp_file.unlink()\n",
    "    \n",
    "    # Verify the output\n",
    "    print(\"\\nVerifying output COG...\")\n",
    "    with rasterio.open(str(output_tiff)) as dst:\n",
    "        print(f\"Output CRS: {dst.crs}\")\n",
    "        print(f\"Output bounds: {dst.bounds}\")"
   ]
  },
  {
   "cell_type": "code",
   "execution_count": null,
   "id": "fe5a7a3a-a6c2-455f-a518-c10282a7def9",
   "metadata": {},
   "outputs": [],
   "source": [
    "data_dir = Path('../_data')\n",
    "processed_folder = (data_dir / 'processed').resolve()\n",
    "input_file = Path('../_data/raw/ST_Clipped_20190922.tif')\n",
    "output_file = processed_folder / 'ST_Clipped_20190922_cog.tif'\n",
    "\n",
    "convert_to_cog(input_file, output_file)"
   ]
  },
  {
   "cell_type": "code",
   "execution_count": null,
   "id": "ca845867-bdb4-4489-800e-908b55ed95c8",
   "metadata": {},
   "outputs": [],
   "source": []
  }
 ],
 "metadata": {
  "kernelspec": {
   "display_name": "Python 3 (ipykernel)",
   "language": "python",
   "name": "python3"
  },
  "language_info": {
   "codemirror_mode": {
    "name": "ipython",
    "version": 3
   },
   "file_extension": ".py",
   "mimetype": "text/x-python",
   "name": "python",
   "nbconvert_exporter": "python",
   "pygments_lexer": "ipython3",
   "version": "3.10.16"
  }
 },
 "nbformat": 4,
 "nbformat_minor": 5
}
