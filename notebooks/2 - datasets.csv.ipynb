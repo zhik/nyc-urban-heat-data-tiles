{
 "cells": [
  {
   "cell_type": "code",
   "execution_count": null,
   "id": "028263ed-d4d6-4e44-a89b-532044533ffa",
   "metadata": {},
   "outputs": [],
   "source": [
    "import pandas as pd"
   ]
  },
  {
   "cell_type": "code",
   "execution_count": null,
   "id": "ac4a2096-2c27-47d8-89ce-0af94171df25",
   "metadata": {},
   "outputs": [],
   "source": [
    "# df = pd.read_csv(\"./transposed_file.csv\")\n",
    "df = pd.read_csv('../_data/datasets.csv')"
   ]
  },
  {
   "cell_type": "code",
   "execution_count": null,
   "id": "8e2d07e5-f275-44fd-a4c7-45b9fd3665cd",
   "metadata": {},
   "outputs": [],
   "source": [
    "filtered_df = df[df['metric'].str.contains('ST_20')]\n",
    "filtered_df = filtered_df.drop(columns=['date', 'type', 'downloads', 'downloads_2'])\n",
    "filtered_num = filtered_df.drop(columns=['metric']).drop(columns=['Unnamed: 0'])\n",
    "filtered_num = filtered_num.fillna(0)\n",
    "filtered_num = filtered_num.apply(pd.to_numeric, errors='coerce')\n",
    "filtered_df['max_value'] = filtered_num.max(axis=1)\n",
    "df_numeric_without_zero = filtered_num.replace(0, float('nan'))\n",
    "filtered_df['min_value'] = df_numeric_without_zero.min(axis=1)\n",
    "filtered_df[['metric', 'max_value', 'min_value']]"
   ]
  },
  {
   "cell_type": "code",
   "execution_count": null,
   "id": "542242b9-a068-4681-8e71-9001e997a551",
   "metadata": {},
   "outputs": [],
   "source": [
    "# add more values\n",
    "target_metric_row = df[df['metric'] == 'NTA_PCT_MRT_Less_Than_110']\n",
    "\n",
    "# Select only the numeric columns (excluding non-numeric ones like 'metric', 'date', etc.)\n",
    "numeric_columns = target_metric_row.select_dtypes(include=['float64']).columns\n",
    "\n",
    "# Multiply the numeric values by 100\n",
    "df.loc[df['metric'] == 'NTA_PCT_MRT_Less_Than_110', numeric_columns] = df.loc[df['metric'] == 'NTA_PCT_MRT_Less_Than_110', numeric_columns] * 100\n",
    "\n",
    "# Display the updated DataFrame\n",
    "print(df)"
   ]
  },
  {
   "cell_type": "code",
   "execution_count": null,
   "id": "96c7e455-53ed-4025-8fe4-87f0cd9adad9",
   "metadata": {},
   "outputs": [],
   "source": [
    "nta_pct_mrt_less_than_110 = df[df['ntacode'] == 'NTA_PCT_MRT_Less_Than_110']\n",
    "\n",
    "# test ... Display the result (all values in this row)\n",
    "nta_pct_mrt_less_than_110['QN12']"
   ]
  },
  {
   "cell_type": "code",
   "execution_count": null,
   "id": "bb411294-77f2-40fd-8544-f4c605be2cc4",
   "metadata": {},
   "outputs": [],
   "source": [
    "df_combined = pd.concat([ df1, nta_pct_mrt_less_than_110,], axis=0, sort=False)\n",
    "df_combined = df_combined.drop(columns=['ntacode'])\n",
    "df_combined.to_csv(\"./datasets.csv\")"
   ]
  },
  {
   "cell_type": "code",
   "execution_count": null,
   "id": "e36628ed-4089-4aab-9c65-70710ce48bdf",
   "metadata": {},
   "outputs": [],
   "source": [
    "# # Remove the unwanted columns\n",
    "# df = df.drop(columns=['Unnamed: 0', 'Unnamed: 0.1', 'NTA_Unq_ID'])\n",
    "\n",
    "# # Save the original column names as a row\n",
    "# df.columns = df.columns.astype(str)  # Ensure column names are treated as strings\n",
    "# df_transposed = df.T\n",
    "\n",
    "# # Reset index and set the first row as the header (column names)\n",
    "# df_transposed.reset_index(drop=False, inplace=True)\n",
    "\n",
    "# # Rename the first row to be the new column names\n",
    "# df_transposed.columns = df_transposed.iloc[0]\n",
    "# df_transposed = df_transposed.drop(0)  # Drop the first row since it is now the header\n",
    "\n",
    "# # Display the transposed DataFrame\n",
    "# df_transposed.to_csv('transposed_file.csv', index=False)\n"
   ]
  }
 ],
 "metadata": {
  "kernelspec": {
   "display_name": "Python 3 (ipykernel)",
   "language": "python",
   "name": "python3"
  },
  "language_info": {
   "codemirror_mode": {
    "name": "ipython",
    "version": 3
   },
   "file_extension": ".py",
   "mimetype": "text/x-python",
   "name": "python",
   "nbconvert_exporter": "python",
   "pygments_lexer": "ipython3",
   "version": "3.10.16"
  }
 },
 "nbformat": 4,
 "nbformat_minor": 5
}
